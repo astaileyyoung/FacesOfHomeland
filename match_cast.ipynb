{
 "cells": [
  {
   "cell_type": "code",
   "execution_count": 1,
   "id": "d263ac6a-c3fd-4c31-a784-2d2e412bba95",
   "metadata": {},
   "outputs": [],
   "source": [
    "import re\n",
    "import json\n",
    "from pathlib import Path \n",
    "\n",
    "from imdb import Cinemagoer"
   ]
  },
  {
   "cell_type": "code",
   "execution_count": 2,
   "id": "54ab0fad-58d0-4e87-afdd-f13d390495a4",
   "metadata": {},
   "outputs": [],
   "source": [
    "ia = Cinemagoer()\n",
    "series = ia.get_movie('1796960')"
   ]
  },
  {
   "cell_type": "code",
   "execution_count": 3,
   "id": "c14f6015-a029-4ffb-92bf-9f2d69cbec8f",
   "metadata": {},
   "outputs": [
    {
     "data": {
      "text/plain": [
       "<Movie id:1796960[http] title:_\"Homeland\" (2011)_>"
      ]
     },
     "execution_count": 3,
     "metadata": {},
     "output_type": "execute_result"
    }
   ],
   "source": [
    "series = ia.get_movie('1796960')\n",
    "ia.update(series, 'full credits')\n",
    "series"
   ]
  },
  {
   "cell_type": "code",
   "execution_count": 4,
   "id": "fe3ef827-01d4-4d9b-ae6b-5ed83ea115c9",
   "metadata": {},
   "outputs": [
    {
     "name": "stdout",
     "output_type": "stream",
     "text": [
      "1082\n"
     ]
    }
   ],
   "source": [
    "# data = {}\n",
    "# for cast_member in series.data['cast']:\n",
    "#     if len(cast_member.currentRole) > 1:\n",
    "#         r = cast_member.currentRole[0]\n",
    "#     else:\n",
    "#         r = cast_member.currentRole\n",
    "#     data[r.data['name']] = cast_member.personID\n",
    "# print(len(data))"
   ]
  },
  {
   "cell_type": "code",
   "execution_count": 8,
   "id": "09e6c749-0363-454e-bac1-28e8b4c12625",
   "metadata": {},
   "outputs": [],
   "source": [
    "with open(r'.\\data\\cast.json', 'r') as f:\n",
    "    cast = json.load(f)"
   ]
  },
  {
   "cell_type": "code",
   "execution_count": 5,
   "id": "53c298d2-b56a-401b-8c5b-71108fb29777",
   "metadata": {},
   "outputs": [
    {
     "data": {
      "text/plain": [
       "['Aasar Khan',\n",
       " 'Aayan Ibrahim',\n",
       " \"Abdul Qadir G'ulom\",\n",
       " 'Agent Maslin',\n",
       " 'Aileen Morgan',\n",
       " 'Allison Carr',\n",
       " 'Andrew Lockhart',\n",
       " 'Astrid',\n",
       " \"Brett O'Keefe\",\n",
       " 'Bunny Latif',\n",
       " 'Carrie Mathison',\n",
       " 'Christine Lonas',\n",
       " 'Chris Brody',\n",
       " 'Clint Prower',\n",
       " 'Dana Brody',\n",
       " 'Dante Allen',\n",
       " 'Dar Adal',\n",
       " 'David Estes',\n",
       " 'David Wellington',\n",
       " 'Dennis Boyd',\n",
       " 'Ellen Mathison',\n",
       " 'Etai Luskin',\n",
       " 'Fara Sherazi',\n",
       " 'Frank Mathison',\n",
       " 'Franny',\n",
       " 'Haissam Haqqani',\n",
       " 'Helen Walker',\n",
       " 'Issa Nazir',\n",
       " 'Ivan Krupin',\n",
       " 'Jalal Haqqani',\n",
       " 'Jenna Bragg',\n",
       " 'Jessica Brody',\n",
       " 'Jim Lippard',\n",
       " 'John Redmond',\n",
       " 'John Zabel',\n",
       " 'Jonas',\n",
       " 'Laura Sutton',\n",
       " 'Lynne Reed',\n",
       " 'Maggie Mathison',\n",
       " 'Majid Javadi',\n",
       " 'Martha Boyd',\n",
       " 'Max Piotrowski',\n",
       " 'Mike Dunn',\n",
       " 'Mike Faber',\n",
       " 'Mira Berenson',\n",
       " 'Nicholas Brody',\n",
       " 'Numan',\n",
       " 'Otto During',\n",
       " 'Paksima',\n",
       " 'Peter Quinn',\n",
       " 'President Ben Hayes',\n",
       " 'President Elizabeth Keane',\n",
       " 'Ray Conlin',\n",
       " 'Reda Hashem',\n",
       " 'Rob Emmons',\n",
       " 'Sandy Langmore',\n",
       " 'Saul Berenson',\n",
       " 'Sekou Bah',\n",
       " 'Senator Sam Paley',\n",
       " 'Simone Martin',\n",
       " 'Tasneem Qureishi',\n",
       " 'Thomas Anson',\n",
       " 'Tom Walker',\n",
       " 'Tova Rivlin',\n",
       " 'Vice President Ralph Warner',\n",
       " 'Vice President William Walden',\n",
       " 'Viktor Makarov',\n",
       " 'Virgil Piotrowski',\n",
       " 'Yevgeny Gromov']"
      ]
     },
     "execution_count": 5,
     "metadata": {},
     "output_type": "execute_result"
    }
   ],
   "source": [
    "characters = [x.parts[-1].replace('_', ' ') for x in Path(r'.\\data\\characters').iterdir()]\n",
    "characters"
   ]
  },
  {
   "cell_type": "code",
   "execution_count": 9,
   "id": "bf6d73bf-8fb3-4390-acbd-83c49dcc739c",
   "metadata": {},
   "outputs": [
    {
     "data": {
      "text/plain": [
       "{'Aasar Khan': '1203005',\n",
       " 'Aayan Ibrahim': '4139037',\n",
       " \"Abdul Qadir G'ulom\": '0049235',\n",
       " 'Agent Maslin': '0785854',\n",
       " 'Aileen Morgan': '1677477',\n",
       " 'Allison Carr': '0001584',\n",
       " 'Andrew Lockhart': '0504832',\n",
       " 'Astrid': '0396125',\n",
       " \"Brett O'Keefe\": '0916617',\n",
       " 'Bunny Latif': '0539562',\n",
       " 'Carrie Mathison': '0000132',\n",
       " 'Christine Lonas': '0385792',\n",
       " 'Chris Brody': '2093138',\n",
       " 'Clint Prower': '0114430',\n",
       " 'Dana Brody': '2838320',\n",
       " 'Dante Allen': '1767528',\n",
       " 'Dar Adal': '0000719',\n",
       " 'David Estes': '0362873',\n",
       " 'David Wellington': '0730070',\n",
       " 'Dennis Boyd': '0608601',\n",
       " 'Ellen Mathison': '0164594',\n",
       " 'Etai Luskin': '0179680',\n",
       " 'Fara Sherazi': '2258164',\n",
       " 'Frank Mathison': '0714310',\n",
       " 'Franny': '7631546',\n",
       " 'Haissam Haqqani': '1485637',\n",
       " 'Helen Walker': '4182855',\n",
       " 'Issa Nazir': '4575116',\n",
       " 'Ivan Krupin': '0411980',\n",
       " 'Jalal Haqqani': '2799427',\n",
       " 'Jenna Bragg': '3342825',\n",
       " 'Jessica Brody': '1072555',\n",
       " 'Jim Lippard': '1661249',\n",
       " 'John Redmond': '0001574',\n",
       " 'John Zabel': '0199215',\n",
       " 'Jonas': '2356421',\n",
       " 'Laura Sutton': '4706451',\n",
       " 'Lynne Reed': '0113158',\n",
       " 'Maggie Mathison': '0362955',\n",
       " 'Majid Javadi': '0869467',\n",
       " 'Martha Boyd': '0732309',\n",
       " 'Max Piotrowski': '0827561',\n",
       " 'Mike Dunn': '1554516',\n",
       " 'Mike Faber': '1459109',\n",
       " 'Mira Berenson': '0002004',\n",
       " 'Nicholas Brody': '0507073',\n",
       " 'Numan': '4696667',\n",
       " 'Otto During': '0462407',\n",
       " 'Paksima': '5304098',\n",
       " 'Peter Quinn': '1670029',\n",
       " 'President Ben Hayes': '0870794',\n",
       " 'President Elizabeth Keane': '0555500',\n",
       " 'Ray Conlin': '1047883',\n",
       " 'Reda Hashem': '1150775',\n",
       " 'Rob Emmons': '0004991',\n",
       " 'Sandy Langmore': '0193160',\n",
       " 'Saul Berenson': '0001597',\n",
       " 'Sekou Bah': '3402769',\n",
       " 'Senator Sam Paley': '0048414',\n",
       " 'Simone Martin': '0002142',\n",
       " 'Tasneem Qureishi': '1909661',\n",
       " 'Thomas Anson': '0195439',\n",
       " 'Tom Walker': '1663252',\n",
       " 'Tova Rivlin': '2739673',\n",
       " 'Vice President Ralph Warner': '0000977',\n",
       " 'Vice President William Walden': '0792177',\n",
       " 'Viktor Makarov': '0059946',\n",
       " 'Virgil Piotrowski': '0545687',\n",
       " 'Yevgeny Gromov': '2687923'}"
      ]
     },
     "execution_count": 9,
     "metadata": {},
     "output_type": "execute_result"
    }
   ],
   "source": [
    "new_config = {}\n",
    "for character in characters:\n",
    "    for i, j in cast.items():\n",
    "        if re.match(fr'{character}', i):\n",
    "            new_config[character] = j\n",
    "            break\n",
    "new_config"
   ]
  },
  {
   "cell_type": "code",
   "execution_count": 10,
   "id": "882213a4-8668-4e3e-bc1f-76ecc1c6ea02",
   "metadata": {},
   "outputs": [],
   "source": [
    "with open(r'.\\data\\characters.json', 'w') as f:\n",
    "    json.dump(new_config, f, indent=4)"
   ]
  },
  {
   "cell_type": "code",
   "execution_count": null,
   "id": "8da471b5-466f-4468-a417-9ab3b3c0c35b",
   "metadata": {},
   "outputs": [],
   "source": []
  }
 ],
 "metadata": {
  "kernelspec": {
   "display_name": "Python 3 (ipykernel)",
   "language": "python",
   "name": "python3"
  },
  "language_info": {
   "codemirror_mode": {
    "name": "ipython",
    "version": 3
   },
   "file_extension": ".py",
   "mimetype": "text/x-python",
   "name": "python",
   "nbconvert_exporter": "python",
   "pygments_lexer": "ipython3",
   "version": "3.9.17"
  }
 },
 "nbformat": 4,
 "nbformat_minor": 5
}
