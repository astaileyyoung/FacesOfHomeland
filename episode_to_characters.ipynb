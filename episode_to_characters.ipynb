{
 "cells": [
  {
   "cell_type": "code",
   "execution_count": 16,
   "id": "3a5b3fa6-88e9-4dc5-8188-76372d75224d",
   "metadata": {},
   "outputs": [],
   "source": [
    "import json\n",
    "import shutil\n",
    "\n",
    "from pathlib import Path \n",
    "from tqdm import tqdm"
   ]
  },
  {
   "cell_type": "code",
   "execution_count": 13,
   "id": "d09b4a3d-da92-4453-bc99-1050d8004bc1",
   "metadata": {},
   "outputs": [],
   "source": [
    "with open(r'.\\data\\config.json', 'w') as f:\n",
    "    json.dump(config, f, indent=4)    "
   ]
  },
  {
   "cell_type": "code",
   "execution_count": 17,
   "id": "5760862d-526c-4f2f-b284-e5e2b2a2743a",
   "metadata": {},
   "outputs": [
    {
     "name": "stderr",
     "output_type": "stream",
     "text": [
      "100%|████████████████████████████████████████| 96/96 [04:41<00:00,  2.93s/it]\n"
     ]
    }
   ],
   "source": [
    "d = Path(r'.\\data\\clustering')\n",
    "episode_dirs = [x for x in d.iterdir()]\n",
    "for episode_dir in tqdm(episode_dirs):\n",
    "    character_dirs = [x for x in episode_dir.iterdir()]\n",
    "    for character_dir in character_dirs:\n",
    "        character = character_dir.parts[-1]\n",
    "        if character in ['background', 'misc']:\n",
    "            continue\n",
    "        dst_dir = Path(f'.\\data\\characters\\{config[character][\"character\"].replace(\" \", \"_\")}')\n",
    "        if not dst_dir.exists():\n",
    "            Path.mkdir(dst_dir, parents=True)\n",
    "        images = [x for x in character_dir.iterdir()]\n",
    "        for image in images:\n",
    "            fp = dst_dir.joinpath(image.name)\n",
    "            shutil.copy(str(image), str(fp))"
   ]
  },
  {
   "cell_type": "code",
   "execution_count": null,
   "id": "42374b4e-2121-4ec3-a4bc-2a36f8cd5020",
   "metadata": {},
   "outputs": [],
   "source": []
  }
 ],
 "metadata": {
  "kernelspec": {
   "display_name": "Python 3 (ipykernel)",
   "language": "python",
   "name": "python3"
  },
  "language_info": {
   "codemirror_mode": {
    "name": "ipython",
    "version": 3
   },
   "file_extension": ".py",
   "mimetype": "text/x-python",
   "name": "python",
   "nbconvert_exporter": "python",
   "pygments_lexer": "ipython3",
   "version": "3.11.4"
  }
 },
 "nbformat": 4,
 "nbformat_minor": 5
}
