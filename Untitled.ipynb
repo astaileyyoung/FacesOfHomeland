{
 "cells": [
  {
   "cell_type": "code",
   "execution_count": 1,
   "id": "99502664-c8a5-4700-ab5b-7825614a701a",
   "metadata": {},
   "outputs": [],
   "source": [
    "import json"
   ]
  },
  {
   "cell_type": "code",
   "execution_count": 5,
   "id": "6808fcdd-8fe4-4195-b781-c8c7520c5de9",
   "metadata": {},
   "outputs": [
    {
     "name": "stdout",
     "output_type": "stream",
     "text": [
      "1082\n"
     ]
    }
   ],
   "source": [
    "with open('./data/cast.json', 'r') as f:\n",
    "    cast = json.load(f)\n",
    "print(len(list(cast.values())))"
   ]
  },
  {
   "cell_type": "code",
   "execution_count": 6,
   "id": "826cdd1e-6cf8-4953-8ff5-1e7d288b8d4e",
   "metadata": {},
   "outputs": [],
   "source": [
    "with open('./data/characters.json', 'r') as f:\n",
    "    characters = json.load(f)"
   ]
  },
  {
   "cell_type": "code",
   "execution_count": 9,
   "id": "999ffeec-2f7c-4963-8e51-913e66533989",
   "metadata": {},
   "outputs": [],
   "source": [
    "temp = {'cast': cast,\n",
    "        'characters': characters,\n",
    "        'series': 'Homeland',\n",
    "        'year': '2011'}\n",
    "d = {'796960': temp}"
   ]
  },
  {
   "cell_type": "code",
   "execution_count": 11,
   "id": "eb4bc5fc-9691-495d-868a-7f433cb72284",
   "metadata": {},
   "outputs": [],
   "source": [
    "with open('./data/config.json', 'w') as f:\n",
    "    json.dump(d, f)"
   ]
  },
  {
   "cell_type": "code",
   "execution_count": null,
   "id": "95d3ee3a-ff9a-448f-b0fb-91dd951dae87",
   "metadata": {},
   "outputs": [],
   "source": []
  }
 ],
 "metadata": {
  "kernelspec": {
   "display_name": "Python 3 (ipykernel)",
   "language": "python",
   "name": "python3"
  },
  "language_info": {
   "codemirror_mode": {
    "name": "ipython",
    "version": 3
   },
   "file_extension": ".py",
   "mimetype": "text/x-python",
   "name": "python",
   "nbconvert_exporter": "python",
   "pygments_lexer": "ipython3",
   "version": "3.9.17"
  }
 },
 "nbformat": 4,
 "nbformat_minor": 5
}
