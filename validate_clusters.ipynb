{
 "cells": [
  {
   "cell_type": "code",
   "execution_count": 1,
   "metadata": {},
   "outputs": [],
   "source": [
    "import shutil\n",
    "from pathlib import Path \n",
    "\n",
    "import cv2\n",
    "import pandas as pd\n",
    "import plotly.graph_objs as go"
   ]
  },
  {
   "cell_type": "code",
   "execution_count": 2,
   "metadata": {},
   "outputs": [],
   "source": [
    "def parse_dir(d):\n",
    "    subdirs = [x for x in Path(d).iterdir()]\n",
    "    data = []\n",
    "    for subdir in subdirs:\n",
    "        files = [x for x in subdir.iterdir()]\n",
    "        for file in files:\n",
    "            img = cv2.imread(str(file))\n",
    "            h, w = img.shape[:2]\n",
    "            datum = {'fp': str(file),\n",
    "                     'height': h,\n",
    "                     'width': w,\n",
    "                     'pct_of_frame': ((h * w)/(1080 * 1920)) * 100,\n",
    "                     'cluster': subdir.parts[-1],\n",
    "                     'algo': d.parts[-1]}\n",
    "            data.append(datum)\n",
    "    return data "
   ]
  },
  {
   "cell_type": "code",
   "execution_count": 4,
   "metadata": {},
   "outputs": [
    {
     "data": {
      "text/html": [
       "<div>\n",
       "<style scoped>\n",
       "    .dataframe tbody tr th:only-of-type {\n",
       "        vertical-align: middle;\n",
       "    }\n",
       "\n",
       "    .dataframe tbody tr th {\n",
       "        vertical-align: top;\n",
       "    }\n",
       "\n",
       "    .dataframe thead th {\n",
       "        text-align: right;\n",
       "    }\n",
       "</style>\n",
       "<table border=\"1\" class=\"dataframe\">\n",
       "  <thead>\n",
       "    <tr style=\"text-align: right;\">\n",
       "      <th></th>\n",
       "      <th>fp</th>\n",
       "      <th>cluster</th>\n",
       "      <th>algo</th>\n",
       "    </tr>\n",
       "  </thead>\n",
       "  <tbody>\n",
       "    <tr>\n",
       "      <th>0</th>\n",
       "      <td>clusters/DBSCAN/4/S01E01_23688_1.png</td>\n",
       "      <td>4</td>\n",
       "      <td>DBSCAN</td>\n",
       "    </tr>\n",
       "    <tr>\n",
       "      <th>1</th>\n",
       "      <td>clusters/DBSCAN/4/S01E01_16584_1.png</td>\n",
       "      <td>4</td>\n",
       "      <td>DBSCAN</td>\n",
       "    </tr>\n",
       "    <tr>\n",
       "      <th>2</th>\n",
       "      <td>clusters/DBSCAN/4/S01E01_25704_0.png</td>\n",
       "      <td>4</td>\n",
       "      <td>DBSCAN</td>\n",
       "    </tr>\n",
       "    <tr>\n",
       "      <th>3</th>\n",
       "      <td>clusters/DBSCAN/4/S01E01_8928_0.png</td>\n",
       "      <td>4</td>\n",
       "      <td>DBSCAN</td>\n",
       "    </tr>\n",
       "    <tr>\n",
       "      <th>4</th>\n",
       "      <td>clusters/DBSCAN/4/S01E01_28824_3.png</td>\n",
       "      <td>4</td>\n",
       "      <td>DBSCAN</td>\n",
       "    </tr>\n",
       "  </tbody>\n",
       "</table>\n",
       "</div>"
      ],
      "text/plain": [
       "                                     fp cluster    algo\n",
       "0  clusters/DBSCAN/4/S01E01_23688_1.png       4  DBSCAN\n",
       "1  clusters/DBSCAN/4/S01E01_16584_1.png       4  DBSCAN\n",
       "2  clusters/DBSCAN/4/S01E01_25704_0.png       4  DBSCAN\n",
       "3   clusters/DBSCAN/4/S01E01_8928_0.png       4  DBSCAN\n",
       "4  clusters/DBSCAN/4/S01E01_28824_3.png       4  DBSCAN"
      ]
     },
     "execution_count": 4,
     "metadata": {},
     "output_type": "execute_result"
    }
   ],
   "source": [
    "data = []\n",
    "for d in Path('./clusters').iterdir():\n",
    "    datum = parse_dir(d)\n",
    "    data.extend(datum)\n",
    "\n",
    "df = pd.DataFrame(data)\n",
    "df.head()"
   ]
  },
  {
   "cell_type": "code",
   "execution_count": 5,
   "metadata": {},
   "outputs": [
    {
     "data": {
      "text/html": [
       "<div>\n",
       "<style scoped>\n",
       "    .dataframe tbody tr th:only-of-type {\n",
       "        vertical-align: middle;\n",
       "    }\n",
       "\n",
       "    .dataframe tbody tr th {\n",
       "        vertical-align: top;\n",
       "    }\n",
       "\n",
       "    .dataframe thead th {\n",
       "        text-align: right;\n",
       "    }\n",
       "</style>\n",
       "<table border=\"1\" class=\"dataframe\">\n",
       "  <thead>\n",
       "    <tr style=\"text-align: right;\">\n",
       "      <th></th>\n",
       "      <th>fp</th>\n",
       "      <th>cluster</th>\n",
       "    </tr>\n",
       "    <tr>\n",
       "      <th>algo</th>\n",
       "      <th></th>\n",
       "      <th></th>\n",
       "    </tr>\n",
       "  </thead>\n",
       "  <tbody>\n",
       "    <tr>\n",
       "      <th>DBSCAN</th>\n",
       "      <td>3427</td>\n",
       "      <td>3427</td>\n",
       "    </tr>\n",
       "    <tr>\n",
       "      <th>chinese_whispers</th>\n",
       "      <td>3091</td>\n",
       "      <td>3091</td>\n",
       "    </tr>\n",
       "  </tbody>\n",
       "</table>\n",
       "</div>"
      ],
      "text/plain": [
       "                    fp  cluster\n",
       "algo                           \n",
       "DBSCAN            3427     3427\n",
       "chinese_whispers  3091     3091"
      ]
     },
     "execution_count": 5,
     "metadata": {},
     "output_type": "execute_result"
    }
   ],
   "source": [
    "g = df.groupby('algo').count()\n",
    "g"
   ]
  },
  {
   "cell_type": "code",
   "execution_count": 6,
   "metadata": {},
   "outputs": [
    {
     "data": {
      "text/html": [
       "<div>\n",
       "<style scoped>\n",
       "    .dataframe tbody tr th:only-of-type {\n",
       "        vertical-align: middle;\n",
       "    }\n",
       "\n",
       "    .dataframe tbody tr th {\n",
       "        vertical-align: top;\n",
       "    }\n",
       "\n",
       "    .dataframe thead th {\n",
       "        text-align: right;\n",
       "    }\n",
       "</style>\n",
       "<table border=\"1\" class=\"dataframe\">\n",
       "  <thead>\n",
       "    <tr style=\"text-align: right;\">\n",
       "      <th></th>\n",
       "      <th>fp</th>\n",
       "      <th>cluster</th>\n",
       "      <th>algo</th>\n",
       "    </tr>\n",
       "  </thead>\n",
       "  <tbody>\n",
       "    <tr>\n",
       "      <th>3427</th>\n",
       "      <td>clusters/chinese_whispers/37/S01E01_26688_0.png</td>\n",
       "      <td>37</td>\n",
       "      <td>chinese_whispers</td>\n",
       "    </tr>\n",
       "    <tr>\n",
       "      <th>3428</th>\n",
       "      <td>clusters/chinese_whispers/37/S01E01_48720_0.png</td>\n",
       "      <td>37</td>\n",
       "      <td>chinese_whispers</td>\n",
       "    </tr>\n",
       "    <tr>\n",
       "      <th>3429</th>\n",
       "      <td>clusters/chinese_whispers/37/S01E01_34032_0.png</td>\n",
       "      <td>37</td>\n",
       "      <td>chinese_whispers</td>\n",
       "    </tr>\n",
       "    <tr>\n",
       "      <th>3430</th>\n",
       "      <td>clusters/chinese_whispers/37/S01E01_42720_0.png</td>\n",
       "      <td>37</td>\n",
       "      <td>chinese_whispers</td>\n",
       "    </tr>\n",
       "    <tr>\n",
       "      <th>3431</th>\n",
       "      <td>clusters/chinese_whispers/37/S01E01_49608_1.png</td>\n",
       "      <td>37</td>\n",
       "      <td>chinese_whispers</td>\n",
       "    </tr>\n",
       "  </tbody>\n",
       "</table>\n",
       "</div>"
      ],
      "text/plain": [
       "                                                   fp cluster  \\\n",
       "3427  clusters/chinese_whispers/37/S01E01_26688_0.png      37   \n",
       "3428  clusters/chinese_whispers/37/S01E01_48720_0.png      37   \n",
       "3429  clusters/chinese_whispers/37/S01E01_34032_0.png      37   \n",
       "3430  clusters/chinese_whispers/37/S01E01_42720_0.png      37   \n",
       "3431  clusters/chinese_whispers/37/S01E01_49608_1.png      37   \n",
       "\n",
       "                  algo  \n",
       "3427  chinese_whispers  \n",
       "3428  chinese_whispers  \n",
       "3429  chinese_whispers  \n",
       "3430  chinese_whispers  \n",
       "3431  chinese_whispers  "
      ]
     },
     "execution_count": 6,
     "metadata": {},
     "output_type": "execute_result"
    }
   ],
   "source": [
    "chinese_whispers = df[df['algo'] == 'chinese_whispers']\n",
    "chinese_whispers.head()"
   ]
  },
  {
   "cell_type": "code",
   "execution_count": 7,
   "metadata": {},
   "outputs": [],
   "source": [
    "sample = chinese_whispers.sample(n=342)\n",
    "for idx, row in sample.iterrows():\n",
    "    fp = Path(row['fp']).absolute()\n",
    "    dst_dir = Path('sample').joinpath(row['algo'])\n",
    "    name = f'{Path(row[\"fp\"]).stem}_{row[\"cluster\"]}.png'\n",
    "    dst = dst_dir.joinpath(name)\n",
    "    shutil.copy(str(fp), str(dst))\n"
   ]
  },
  {
   "cell_type": "code",
   "execution_count": 8,
   "metadata": {},
   "outputs": [
    {
     "data": {
      "text/html": [
       "<div>\n",
       "<style scoped>\n",
       "    .dataframe tbody tr th:only-of-type {\n",
       "        vertical-align: middle;\n",
       "    }\n",
       "\n",
       "    .dataframe tbody tr th {\n",
       "        vertical-align: top;\n",
       "    }\n",
       "\n",
       "    .dataframe thead th {\n",
       "        text-align: right;\n",
       "    }\n",
       "</style>\n",
       "<table border=\"1\" class=\"dataframe\">\n",
       "  <thead>\n",
       "    <tr style=\"text-align: right;\">\n",
       "      <th></th>\n",
       "      <th>fp</th>\n",
       "      <th>cluster</th>\n",
       "      <th>algo</th>\n",
       "    </tr>\n",
       "  </thead>\n",
       "  <tbody>\n",
       "    <tr>\n",
       "      <th>0</th>\n",
       "      <td>clusters/DBSCAN/4/S01E01_23688_1.png</td>\n",
       "      <td>4</td>\n",
       "      <td>DBSCAN</td>\n",
       "    </tr>\n",
       "    <tr>\n",
       "      <th>1</th>\n",
       "      <td>clusters/DBSCAN/4/S01E01_16584_1.png</td>\n",
       "      <td>4</td>\n",
       "      <td>DBSCAN</td>\n",
       "    </tr>\n",
       "    <tr>\n",
       "      <th>2</th>\n",
       "      <td>clusters/DBSCAN/4/S01E01_25704_0.png</td>\n",
       "      <td>4</td>\n",
       "      <td>DBSCAN</td>\n",
       "    </tr>\n",
       "    <tr>\n",
       "      <th>3</th>\n",
       "      <td>clusters/DBSCAN/4/S01E01_8928_0.png</td>\n",
       "      <td>4</td>\n",
       "      <td>DBSCAN</td>\n",
       "    </tr>\n",
       "    <tr>\n",
       "      <th>4</th>\n",
       "      <td>clusters/DBSCAN/4/S01E01_28824_3.png</td>\n",
       "      <td>4</td>\n",
       "      <td>DBSCAN</td>\n",
       "    </tr>\n",
       "  </tbody>\n",
       "</table>\n",
       "</div>"
      ],
      "text/plain": [
       "                                     fp cluster    algo\n",
       "0  clusters/DBSCAN/4/S01E01_23688_1.png       4  DBSCAN\n",
       "1  clusters/DBSCAN/4/S01E01_16584_1.png       4  DBSCAN\n",
       "2  clusters/DBSCAN/4/S01E01_25704_0.png       4  DBSCAN\n",
       "3   clusters/DBSCAN/4/S01E01_8928_0.png       4  DBSCAN\n",
       "4  clusters/DBSCAN/4/S01E01_28824_3.png       4  DBSCAN"
      ]
     },
     "execution_count": 8,
     "metadata": {},
     "output_type": "execute_result"
    }
   ],
   "source": [
    "dbscan = df[df['algo'] == 'DBSCAN']\n",
    "dbscan.head()"
   ]
  },
  {
   "cell_type": "code",
   "execution_count": 9,
   "metadata": {},
   "outputs": [],
   "source": [
    "sample = dbscan.sample(n=346)\n",
    "for idx, row in sample.iterrows():\n",
    "    fp = Path(row['fp']).absolute()\n",
    "    dst_dir = Path('sample').joinpath(row['algo'])\n",
    "    name = f'{Path(row[\"fp\"]).stem}_{row[\"cluster\"]}.png'\n",
    "    dst = dst_dir.joinpath(name)\n",
    "    shutil.copy(str(fp), str(dst))"
   ]
  },
  {
   "cell_type": "markdown",
   "metadata": {},
   "source": [
    "## Validation"
   ]
  },
  {
   "cell_type": "code",
   "execution_count": 3,
   "metadata": {},
   "outputs": [
    {
     "data": {
      "text/html": [
       "<div>\n",
       "<style scoped>\n",
       "    .dataframe tbody tr th:only-of-type {\n",
       "        vertical-align: middle;\n",
       "    }\n",
       "\n",
       "    .dataframe tbody tr th {\n",
       "        vertical-align: top;\n",
       "    }\n",
       "\n",
       "    .dataframe thead th {\n",
       "        text-align: right;\n",
       "    }\n",
       "</style>\n",
       "<table border=\"1\" class=\"dataframe\">\n",
       "  <thead>\n",
       "    <tr style=\"text-align: right;\">\n",
       "      <th></th>\n",
       "      <th>fp</th>\n",
       "      <th>height</th>\n",
       "      <th>width</th>\n",
       "      <th>pct_of_frame</th>\n",
       "      <th>character</th>\n",
       "      <th>algo</th>\n",
       "      <th>cluster</th>\n",
       "    </tr>\n",
       "  </thead>\n",
       "  <tbody>\n",
       "    <tr>\n",
       "      <th>0</th>\n",
       "      <td>validation/DBSCAN/Nicholas Brody/S01E01_31992_...</td>\n",
       "      <td>169</td>\n",
       "      <td>170</td>\n",
       "      <td>1.385513</td>\n",
       "      <td>Nicholas Brody</td>\n",
       "      <td>DBSCAN</td>\n",
       "      <td>7</td>\n",
       "    </tr>\n",
       "    <tr>\n",
       "      <th>1</th>\n",
       "      <td>validation/DBSCAN/Nicholas Brody/S01E01_50400_...</td>\n",
       "      <td>352</td>\n",
       "      <td>352</td>\n",
       "      <td>5.975309</td>\n",
       "      <td>Nicholas Brody</td>\n",
       "      <td>DBSCAN</td>\n",
       "      <td>11</td>\n",
       "    </tr>\n",
       "    <tr>\n",
       "      <th>2</th>\n",
       "      <td>validation/DBSCAN/Nicholas Brody/S01E01_50904_...</td>\n",
       "      <td>507</td>\n",
       "      <td>508</td>\n",
       "      <td>12.420718</td>\n",
       "      <td>Nicholas Brody</td>\n",
       "      <td>DBSCAN</td>\n",
       "      <td>7</td>\n",
       "    </tr>\n",
       "    <tr>\n",
       "      <th>3</th>\n",
       "      <td>validation/DBSCAN/Nicholas Brody/S01E01_48984_...</td>\n",
       "      <td>353</td>\n",
       "      <td>353</td>\n",
       "      <td>6.009307</td>\n",
       "      <td>Nicholas Brody</td>\n",
       "      <td>DBSCAN</td>\n",
       "      <td>11</td>\n",
       "    </tr>\n",
       "    <tr>\n",
       "      <th>4</th>\n",
       "      <td>validation/DBSCAN/Nicholas Brody/S01E01_49872_...</td>\n",
       "      <td>352</td>\n",
       "      <td>352</td>\n",
       "      <td>5.975309</td>\n",
       "      <td>Nicholas Brody</td>\n",
       "      <td>DBSCAN</td>\n",
       "      <td>11</td>\n",
       "    </tr>\n",
       "  </tbody>\n",
       "</table>\n",
       "</div>"
      ],
      "text/plain": [
       "                                                  fp  height  width  \\\n",
       "0  validation/DBSCAN/Nicholas Brody/S01E01_31992_...     169    170   \n",
       "1  validation/DBSCAN/Nicholas Brody/S01E01_50400_...     352    352   \n",
       "2  validation/DBSCAN/Nicholas Brody/S01E01_50904_...     507    508   \n",
       "3  validation/DBSCAN/Nicholas Brody/S01E01_48984_...     353    353   \n",
       "4  validation/DBSCAN/Nicholas Brody/S01E01_49872_...     352    352   \n",
       "\n",
       "   pct_of_frame       character    algo cluster  \n",
       "0      1.385513  Nicholas Brody  DBSCAN       7  \n",
       "1      5.975309  Nicholas Brody  DBSCAN      11  \n",
       "2     12.420718  Nicholas Brody  DBSCAN       7  \n",
       "3      6.009307  Nicholas Brody  DBSCAN      11  \n",
       "4      5.975309  Nicholas Brody  DBSCAN      11  "
      ]
     },
     "execution_count": 3,
     "metadata": {},
     "output_type": "execute_result"
    }
   ],
   "source": [
    "data = []\n",
    "for d in Path('./validation').iterdir():\n",
    "    datum = parse_dir(d)\n",
    "    data.extend(datum)\n",
    "\n",
    "validation_df = pd.DataFrame(data)\n",
    "validation_df = validation_df.rename({'cluster': 'character'}, axis=1)\n",
    "validation_df = validation_df.assign(cluster=validation_df['fp'].map(lambda x: Path(x).stem.split('_')[-1]))\n",
    "validation_df.head()"
   ]
  },
  {
   "cell_type": "markdown",
   "metadata": {},
   "source": [
    "### DBSCAN"
   ]
  },
  {
   "cell_type": "code",
   "execution_count": 4,
   "metadata": {},
   "outputs": [
    {
     "data": {
      "text/plain": [
       "character\n",
       "Other              80\n",
       "Nicholas Brody     58\n",
       "Carrie Matheson    58\n",
       "Jessica Brody      47\n",
       "Saul Berenson      22\n",
       "Son Brody          20\n",
       "David Estes        18\n",
       "Virgil             12\n",
       "Daughter Brody      9\n",
       "Mike Faber          9\n",
       "Guy_from_bar        4\n",
       "Mrs Walker          4\n",
       "Max                 4\n",
       "Asian_Lady          3\n",
       "Name: count, dtype: int64"
      ]
     },
     "execution_count": 4,
     "metadata": {},
     "output_type": "execute_result"
    }
   ],
   "source": [
    "validation_dbscan = validation_df[validation_df['algo'] == 'DBSCAN']\n",
    "validation_dbscan['character'].value_counts()"
   ]
  },
  {
   "cell_type": "code",
   "execution_count": 5,
   "metadata": {},
   "outputs": [
    {
     "data": {
      "text/html": [
       "<div>\n",
       "<style scoped>\n",
       "    .dataframe tbody tr th:only-of-type {\n",
       "        vertical-align: middle;\n",
       "    }\n",
       "\n",
       "    .dataframe tbody tr th {\n",
       "        vertical-align: top;\n",
       "    }\n",
       "\n",
       "    .dataframe thead th {\n",
       "        text-align: right;\n",
       "    }\n",
       "</style>\n",
       "<table border=\"1\" class=\"dataframe\">\n",
       "  <thead>\n",
       "    <tr style=\"text-align: right;\">\n",
       "      <th></th>\n",
       "      <th>character</th>\n",
       "      <th>pct</th>\n",
       "      <th>count</th>\n",
       "    </tr>\n",
       "  </thead>\n",
       "  <tbody>\n",
       "    <tr>\n",
       "      <th>1</th>\n",
       "      <td>Saul Berenson</td>\n",
       "      <td>1.000000</td>\n",
       "      <td>22</td>\n",
       "    </tr>\n",
       "    <tr>\n",
       "      <th>5</th>\n",
       "      <td>David Estes</td>\n",
       "      <td>1.000000</td>\n",
       "      <td>18</td>\n",
       "    </tr>\n",
       "    <tr>\n",
       "      <th>7</th>\n",
       "      <td>Mrs Walker</td>\n",
       "      <td>1.000000</td>\n",
       "      <td>4</td>\n",
       "    </tr>\n",
       "    <tr>\n",
       "      <th>8</th>\n",
       "      <td>Max</td>\n",
       "      <td>1.000000</td>\n",
       "      <td>4</td>\n",
       "    </tr>\n",
       "    <tr>\n",
       "      <th>2</th>\n",
       "      <td>Virgil</td>\n",
       "      <td>0.916667</td>\n",
       "      <td>12</td>\n",
       "    </tr>\n",
       "    <tr>\n",
       "      <th>3</th>\n",
       "      <td>Guy_from_bar</td>\n",
       "      <td>0.750000</td>\n",
       "      <td>4</td>\n",
       "    </tr>\n",
       "    <tr>\n",
       "      <th>6</th>\n",
       "      <td>Carrie Matheson</td>\n",
       "      <td>0.741379</td>\n",
       "      <td>58</td>\n",
       "    </tr>\n",
       "    <tr>\n",
       "      <th>9</th>\n",
       "      <td>Daughter Brody</td>\n",
       "      <td>0.666667</td>\n",
       "      <td>9</td>\n",
       "    </tr>\n",
       "    <tr>\n",
       "      <th>11</th>\n",
       "      <td>Mike Faber</td>\n",
       "      <td>0.666667</td>\n",
       "      <td>9</td>\n",
       "    </tr>\n",
       "    <tr>\n",
       "      <th>12</th>\n",
       "      <td>Asian_Lady</td>\n",
       "      <td>0.666667</td>\n",
       "      <td>3</td>\n",
       "    </tr>\n",
       "    <tr>\n",
       "      <th>10</th>\n",
       "      <td>Jessica Brody</td>\n",
       "      <td>0.574468</td>\n",
       "      <td>47</td>\n",
       "    </tr>\n",
       "    <tr>\n",
       "      <th>0</th>\n",
       "      <td>Nicholas Brody</td>\n",
       "      <td>0.379310</td>\n",
       "      <td>58</td>\n",
       "    </tr>\n",
       "    <tr>\n",
       "      <th>4</th>\n",
       "      <td>Son Brody</td>\n",
       "      <td>0.350000</td>\n",
       "      <td>20</td>\n",
       "    </tr>\n",
       "  </tbody>\n",
       "</table>\n",
       "</div>"
      ],
      "text/plain": [
       "          character       pct  count\n",
       "1     Saul Berenson  1.000000     22\n",
       "5       David Estes  1.000000     18\n",
       "7        Mrs Walker  1.000000      4\n",
       "8               Max  1.000000      4\n",
       "2            Virgil  0.916667     12\n",
       "3      Guy_from_bar  0.750000      4\n",
       "6   Carrie Matheson  0.741379     58\n",
       "9    Daughter Brody  0.666667      9\n",
       "11       Mike Faber  0.666667      9\n",
       "12       Asian_Lady  0.666667      3\n",
       "10    Jessica Brody  0.574468     47\n",
       "0    Nicholas Brody  0.379310     58\n",
       "4         Son Brody  0.350000     20"
      ]
     },
     "execution_count": 5,
     "metadata": {},
     "output_type": "execute_result"
    }
   ],
   "source": [
    "data = []\n",
    "for character in [x for x in validation_dbscan['character'].unique().tolist() if x != 'Other']:\n",
    "    character_df = validation_dbscan[validation_dbscan['character'] == character]\n",
    "    m = character_df['cluster'].value_counts().max()\n",
    "    pct = m/character_df.shape[0]\n",
    "    datum = {'character': character,\n",
    "             'pct': pct,\n",
    "             'count': character_df.shape[0]}\n",
    "    data.append(datum)\n",
    "cnt_df = pd.DataFrame(data)\n",
    "cnt_df = cnt_df.sort_values(by='pct', ascending=False)\n",
    "cnt_df"
   ]
  },
  {
   "cell_type": "code",
   "execution_count": 6,
   "metadata": {},
   "outputs": [
    {
     "data": {
      "text/html": [
       "<div>\n",
       "<style scoped>\n",
       "    .dataframe tbody tr th:only-of-type {\n",
       "        vertical-align: middle;\n",
       "    }\n",
       "\n",
       "    .dataframe tbody tr th {\n",
       "        vertical-align: top;\n",
       "    }\n",
       "\n",
       "    .dataframe thead th {\n",
       "        text-align: right;\n",
       "    }\n",
       "</style>\n",
       "<table border=\"1\" class=\"dataframe\">\n",
       "  <thead>\n",
       "    <tr style=\"text-align: right;\">\n",
       "      <th></th>\n",
       "      <th>fp</th>\n",
       "      <th>height</th>\n",
       "      <th>width</th>\n",
       "      <th>pct_of_frame</th>\n",
       "      <th>character</th>\n",
       "      <th>algo</th>\n",
       "      <th>cluster</th>\n",
       "      <th>pct</th>\n",
       "    </tr>\n",
       "  </thead>\n",
       "  <tbody>\n",
       "    <tr>\n",
       "      <th>0</th>\n",
       "      <td>validation/DBSCAN/Nicholas Brody/S01E01_31992_...</td>\n",
       "      <td>169</td>\n",
       "      <td>170</td>\n",
       "      <td>1.385513</td>\n",
       "      <td>Nicholas Brody</td>\n",
       "      <td>DBSCAN</td>\n",
       "      <td>7</td>\n",
       "      <td>0.37931</td>\n",
       "    </tr>\n",
       "    <tr>\n",
       "      <th>1</th>\n",
       "      <td>validation/DBSCAN/Nicholas Brody/S01E01_50400_...</td>\n",
       "      <td>352</td>\n",
       "      <td>352</td>\n",
       "      <td>5.975309</td>\n",
       "      <td>Nicholas Brody</td>\n",
       "      <td>DBSCAN</td>\n",
       "      <td>11</td>\n",
       "      <td>0.37931</td>\n",
       "    </tr>\n",
       "    <tr>\n",
       "      <th>2</th>\n",
       "      <td>validation/DBSCAN/Nicholas Brody/S01E01_50904_...</td>\n",
       "      <td>507</td>\n",
       "      <td>508</td>\n",
       "      <td>12.420718</td>\n",
       "      <td>Nicholas Brody</td>\n",
       "      <td>DBSCAN</td>\n",
       "      <td>7</td>\n",
       "      <td>0.37931</td>\n",
       "    </tr>\n",
       "    <tr>\n",
       "      <th>3</th>\n",
       "      <td>validation/DBSCAN/Nicholas Brody/S01E01_48984_...</td>\n",
       "      <td>353</td>\n",
       "      <td>353</td>\n",
       "      <td>6.009307</td>\n",
       "      <td>Nicholas Brody</td>\n",
       "      <td>DBSCAN</td>\n",
       "      <td>11</td>\n",
       "      <td>0.37931</td>\n",
       "    </tr>\n",
       "    <tr>\n",
       "      <th>4</th>\n",
       "      <td>validation/DBSCAN/Nicholas Brody/S01E01_49872_...</td>\n",
       "      <td>352</td>\n",
       "      <td>352</td>\n",
       "      <td>5.975309</td>\n",
       "      <td>Nicholas Brody</td>\n",
       "      <td>DBSCAN</td>\n",
       "      <td>11</td>\n",
       "      <td>0.37931</td>\n",
       "    </tr>\n",
       "  </tbody>\n",
       "</table>\n",
       "</div>"
      ],
      "text/plain": [
       "                                                  fp  height  width  \\\n",
       "0  validation/DBSCAN/Nicholas Brody/S01E01_31992_...     169    170   \n",
       "1  validation/DBSCAN/Nicholas Brody/S01E01_50400_...     352    352   \n",
       "2  validation/DBSCAN/Nicholas Brody/S01E01_50904_...     507    508   \n",
       "3  validation/DBSCAN/Nicholas Brody/S01E01_48984_...     353    353   \n",
       "4  validation/DBSCAN/Nicholas Brody/S01E01_49872_...     352    352   \n",
       "\n",
       "   pct_of_frame       character    algo cluster      pct  \n",
       "0      1.385513  Nicholas Brody  DBSCAN       7  0.37931  \n",
       "1      5.975309  Nicholas Brody  DBSCAN      11  0.37931  \n",
       "2     12.420718  Nicholas Brody  DBSCAN       7  0.37931  \n",
       "3      6.009307  Nicholas Brody  DBSCAN      11  0.37931  \n",
       "4      5.975309  Nicholas Brody  DBSCAN      11  0.37931  "
      ]
     },
     "execution_count": 6,
     "metadata": {},
     "output_type": "execute_result"
    }
   ],
   "source": [
    "temp_df = validation_dbscan.merge(cnt_df[['character', 'pct']],\n",
    "                                  on='character',\n",
    "                                  how='left')\n",
    "temp_df.head()"
   ]
  },
  {
   "cell_type": "code",
   "execution_count": 7,
   "metadata": {},
   "outputs": [
    {
     "data": {
      "text/plain": [
       "0.6529850746268656"
      ]
     },
     "execution_count": 7,
     "metadata": {},
     "output_type": "execute_result"
    }
   ],
   "source": [
    "temp_df['pct'].mean()"
   ]
  },
  {
   "cell_type": "markdown",
   "metadata": {},
   "source": [
    "### Chinese Whispers"
   ]
  },
  {
   "cell_type": "code",
   "execution_count": 8,
   "metadata": {},
   "outputs": [
    {
     "data": {
      "text/plain": [
       "character\n",
       "Nicholas Brody      66\n",
       "Carrie Matheson     64\n",
       "Jessica Brody       51\n",
       "other               41\n",
       "Saul Berenson       23\n",
       "David Estes         22\n",
       "Daughter Brody      17\n",
       "Virgil              12\n",
       "Son Brody           12\n",
       "Mike Faber          11\n",
       "Max                  6\n",
       "Random White Guy     5\n",
       "Mrs. Walker          4\n",
       "Random Arab Guy      4\n",
       "Random Officer       3\n",
       "14                   1\n",
       "Name: count, dtype: int64"
      ]
     },
     "execution_count": 8,
     "metadata": {},
     "output_type": "execute_result"
    }
   ],
   "source": [
    "validation_chinese = validation_df[validation_df['algo'] == 'chinese_whispers']\n",
    "validation_chinese['character'].value_counts()"
   ]
  },
  {
   "cell_type": "code",
   "execution_count": 9,
   "metadata": {},
   "outputs": [
    {
     "data": {
      "text/html": [
       "<div>\n",
       "<style scoped>\n",
       "    .dataframe tbody tr th:only-of-type {\n",
       "        vertical-align: middle;\n",
       "    }\n",
       "\n",
       "    .dataframe tbody tr th {\n",
       "        vertical-align: top;\n",
       "    }\n",
       "\n",
       "    .dataframe thead th {\n",
       "        text-align: right;\n",
       "    }\n",
       "</style>\n",
       "<table border=\"1\" class=\"dataframe\">\n",
       "  <thead>\n",
       "    <tr style=\"text-align: right;\">\n",
       "      <th></th>\n",
       "      <th>character</th>\n",
       "      <th>pct</th>\n",
       "      <th>count</th>\n",
       "    </tr>\n",
       "  </thead>\n",
       "  <tbody>\n",
       "    <tr>\n",
       "      <th>1</th>\n",
       "      <td>Random Officer</td>\n",
       "      <td>1.000000</td>\n",
       "      <td>3</td>\n",
       "    </tr>\n",
       "    <tr>\n",
       "      <th>4</th>\n",
       "      <td>Son Brody</td>\n",
       "      <td>1.000000</td>\n",
       "      <td>12</td>\n",
       "    </tr>\n",
       "    <tr>\n",
       "      <th>7</th>\n",
       "      <td>Random White Guy</td>\n",
       "      <td>1.000000</td>\n",
       "      <td>5</td>\n",
       "    </tr>\n",
       "    <tr>\n",
       "      <th>8</th>\n",
       "      <td>Mrs. Walker</td>\n",
       "      <td>1.000000</td>\n",
       "      <td>4</td>\n",
       "    </tr>\n",
       "    <tr>\n",
       "      <th>11</th>\n",
       "      <td>Random Arab Guy</td>\n",
       "      <td>1.000000</td>\n",
       "      <td>4</td>\n",
       "    </tr>\n",
       "    <tr>\n",
       "      <th>13</th>\n",
       "      <td>14</td>\n",
       "      <td>1.000000</td>\n",
       "      <td>1</td>\n",
       "    </tr>\n",
       "    <tr>\n",
       "      <th>10</th>\n",
       "      <td>Daughter Brody</td>\n",
       "      <td>0.941176</td>\n",
       "      <td>17</td>\n",
       "    </tr>\n",
       "    <tr>\n",
       "      <th>3</th>\n",
       "      <td>Virgil</td>\n",
       "      <td>0.916667</td>\n",
       "      <td>12</td>\n",
       "    </tr>\n",
       "    <tr>\n",
       "      <th>2</th>\n",
       "      <td>Saul Berenson</td>\n",
       "      <td>0.913043</td>\n",
       "      <td>23</td>\n",
       "    </tr>\n",
       "    <tr>\n",
       "      <th>5</th>\n",
       "      <td>David Estes</td>\n",
       "      <td>0.818182</td>\n",
       "      <td>22</td>\n",
       "    </tr>\n",
       "    <tr>\n",
       "      <th>6</th>\n",
       "      <td>Carrie Matheson</td>\n",
       "      <td>0.812500</td>\n",
       "      <td>64</td>\n",
       "    </tr>\n",
       "    <tr>\n",
       "      <th>0</th>\n",
       "      <td>Nicholas Brody</td>\n",
       "      <td>0.772727</td>\n",
       "      <td>66</td>\n",
       "    </tr>\n",
       "    <tr>\n",
       "      <th>12</th>\n",
       "      <td>Jessica Brody</td>\n",
       "      <td>0.764706</td>\n",
       "      <td>51</td>\n",
       "    </tr>\n",
       "    <tr>\n",
       "      <th>9</th>\n",
       "      <td>Max</td>\n",
       "      <td>0.666667</td>\n",
       "      <td>6</td>\n",
       "    </tr>\n",
       "    <tr>\n",
       "      <th>14</th>\n",
       "      <td>Mike Faber</td>\n",
       "      <td>0.636364</td>\n",
       "      <td>11</td>\n",
       "    </tr>\n",
       "  </tbody>\n",
       "</table>\n",
       "</div>"
      ],
      "text/plain": [
       "           character       pct  count\n",
       "1     Random Officer  1.000000      3\n",
       "4          Son Brody  1.000000     12\n",
       "7   Random White Guy  1.000000      5\n",
       "8        Mrs. Walker  1.000000      4\n",
       "11   Random Arab Guy  1.000000      4\n",
       "13                14  1.000000      1\n",
       "10    Daughter Brody  0.941176     17\n",
       "3             Virgil  0.916667     12\n",
       "2      Saul Berenson  0.913043     23\n",
       "5        David Estes  0.818182     22\n",
       "6    Carrie Matheson  0.812500     64\n",
       "0     Nicholas Brody  0.772727     66\n",
       "12     Jessica Brody  0.764706     51\n",
       "9                Max  0.666667      6\n",
       "14        Mike Faber  0.636364     11"
      ]
     },
     "execution_count": 9,
     "metadata": {},
     "output_type": "execute_result"
    }
   ],
   "source": [
    "data = []\n",
    "for character in [x for x in validation_chinese['character'].unique().tolist() if x != 'other']:\n",
    "    character_df = validation_chinese[validation_chinese['character'] == character]\n",
    "    m = character_df['cluster'].value_counts().max()\n",
    "    pct = m/character_df.shape[0]\n",
    "    datum = {'character': character,\n",
    "             'pct': pct,\n",
    "             'count': character_df.shape[0]}\n",
    "    data.append(datum)\n",
    "cnt_df = pd.DataFrame(data)\n",
    "cnt_df = cnt_df.sort_values(by='pct', ascending=False)\n",
    "cnt_df"
   ]
  },
  {
   "cell_type": "code",
   "execution_count": 10,
   "metadata": {},
   "outputs": [
    {
     "data": {
      "text/html": [
       "<div>\n",
       "<style scoped>\n",
       "    .dataframe tbody tr th:only-of-type {\n",
       "        vertical-align: middle;\n",
       "    }\n",
       "\n",
       "    .dataframe tbody tr th {\n",
       "        vertical-align: top;\n",
       "    }\n",
       "\n",
       "    .dataframe thead th {\n",
       "        text-align: right;\n",
       "    }\n",
       "</style>\n",
       "<table border=\"1\" class=\"dataframe\">\n",
       "  <thead>\n",
       "    <tr style=\"text-align: right;\">\n",
       "      <th></th>\n",
       "      <th>fp</th>\n",
       "      <th>height</th>\n",
       "      <th>width</th>\n",
       "      <th>pct_of_frame</th>\n",
       "      <th>character</th>\n",
       "      <th>algo</th>\n",
       "      <th>cluster</th>\n",
       "      <th>pct</th>\n",
       "    </tr>\n",
       "  </thead>\n",
       "  <tbody>\n",
       "    <tr>\n",
       "      <th>0</th>\n",
       "      <td>validation/chinese_whispers/Nicholas Brody/S01...</td>\n",
       "      <td>245</td>\n",
       "      <td>245</td>\n",
       "      <td>2.894724</td>\n",
       "      <td>Nicholas Brody</td>\n",
       "      <td>chinese_whispers</td>\n",
       "      <td>37</td>\n",
       "      <td>0.772727</td>\n",
       "    </tr>\n",
       "    <tr>\n",
       "      <th>1</th>\n",
       "      <td>validation/chinese_whispers/Nicholas Brody/S01...</td>\n",
       "      <td>40</td>\n",
       "      <td>39</td>\n",
       "      <td>0.075231</td>\n",
       "      <td>Nicholas Brody</td>\n",
       "      <td>chinese_whispers</td>\n",
       "      <td>37</td>\n",
       "      <td>0.772727</td>\n",
       "    </tr>\n",
       "    <tr>\n",
       "      <th>2</th>\n",
       "      <td>validation/chinese_whispers/Nicholas Brody/S01...</td>\n",
       "      <td>170</td>\n",
       "      <td>170</td>\n",
       "      <td>1.393711</td>\n",
       "      <td>Nicholas Brody</td>\n",
       "      <td>chinese_whispers</td>\n",
       "      <td>37</td>\n",
       "      <td>0.772727</td>\n",
       "    </tr>\n",
       "    <tr>\n",
       "      <th>3</th>\n",
       "      <td>validation/chinese_whispers/Nicholas Brody/S01...</td>\n",
       "      <td>352</td>\n",
       "      <td>352</td>\n",
       "      <td>5.975309</td>\n",
       "      <td>Nicholas Brody</td>\n",
       "      <td>chinese_whispers</td>\n",
       "      <td>37</td>\n",
       "      <td>0.772727</td>\n",
       "    </tr>\n",
       "    <tr>\n",
       "      <th>4</th>\n",
       "      <td>validation/chinese_whispers/Nicholas Brody/S01...</td>\n",
       "      <td>352</td>\n",
       "      <td>352</td>\n",
       "      <td>5.975309</td>\n",
       "      <td>Nicholas Brody</td>\n",
       "      <td>chinese_whispers</td>\n",
       "      <td>37</td>\n",
       "      <td>0.772727</td>\n",
       "    </tr>\n",
       "  </tbody>\n",
       "</table>\n",
       "</div>"
      ],
      "text/plain": [
       "                                                  fp  height  width  \\\n",
       "0  validation/chinese_whispers/Nicholas Brody/S01...     245    245   \n",
       "1  validation/chinese_whispers/Nicholas Brody/S01...      40     39   \n",
       "2  validation/chinese_whispers/Nicholas Brody/S01...     170    170   \n",
       "3  validation/chinese_whispers/Nicholas Brody/S01...     352    352   \n",
       "4  validation/chinese_whispers/Nicholas Brody/S01...     352    352   \n",
       "\n",
       "   pct_of_frame       character              algo cluster       pct  \n",
       "0      2.894724  Nicholas Brody  chinese_whispers      37  0.772727  \n",
       "1      0.075231  Nicholas Brody  chinese_whispers      37  0.772727  \n",
       "2      1.393711  Nicholas Brody  chinese_whispers      37  0.772727  \n",
       "3      5.975309  Nicholas Brody  chinese_whispers      37  0.772727  \n",
       "4      5.975309  Nicholas Brody  chinese_whispers      37  0.772727  "
      ]
     },
     "execution_count": 10,
     "metadata": {},
     "output_type": "execute_result"
    }
   ],
   "source": [
    "temp_df = validation_chinese.merge(cnt_df[['character', 'pct']],\n",
    "                                   on='character',\n",
    "                                   how='left')\n",
    "temp_df.head()"
   ]
  },
  {
   "cell_type": "code",
   "execution_count": 11,
   "metadata": {},
   "outputs": [
    {
     "data": {
      "text/plain": [
       "0.8239202657807309"
      ]
     },
     "execution_count": 11,
     "metadata": {},
     "output_type": "execute_result"
    }
   ],
   "source": [
    "temp_df['pct'].mean()"
   ]
  },
  {
   "cell_type": "code",
   "execution_count": 13,
   "metadata": {},
   "outputs": [],
   "source": [
    "layout = go.Layout(title={'text': '',\n",
    "                          'font': {'size': 22,\n",
    "                                   'family': 'Raleway',\n",
    "                                   'color': 'white'},\n",
    "                          'x': 0.5,\n",
    "                          'y': 0.9,\n",
    "                          'xanchor': 'center',\n",
    "                          'yanchor': 'top'},\n",
    "                   xaxis={'title': '',\n",
    "                          'tickfont': {'size': 14,\n",
    "                                       'family': 'Roboto',\n",
    "                                       'color': 'white'},\n",
    "                          'titlefont': {'size': 18,\n",
    "                                        'family': 'Raleway',\n",
    "                                        'color': 'white'}},\n",
    "                   yaxis={'title': '',\n",
    "                          'tickfont': {'size': 14,\n",
    "                                       'family': 'Roboto',\n",
    "                                       'color': 'white'},\n",
    "                          'titlefont': {'size': 18,\n",
    "                                        'family': 'Raleway',\n",
    "                                        'color': 'white'}},\n",
    "                   font={'color': 'white'},\n",
    "                   paper_bgcolor='#5e5e5e',\n",
    "                   plot_bgcolor='rgba(61, 61, 61, 0)')"
   ]
  },
  {
   "cell_type": "code",
   "execution_count": 17,
   "metadata": {},
   "outputs": [
    {
     "data": {
      "application/vnd.plotly.v1+json": {
       "config": {
        "plotlyServerURL": "https://plot.ly"
       },
       "data": [
        {
         "text": [
          "0.653",
          "0.824",
          "0.653",
          "0.824",
          "0.653",
          "0.824",
          "0.653",
          "0.824",
          "0.653",
          "0.824",
          "0.653",
          "0.824",
          "0.653",
          "0.824",
          "0.653",
          "0.824",
          "0.653",
          "0.824",
          "0.653",
          "0.824",
          "0.653",
          "0.824",
          "0.653",
          "0.824",
          "0.653",
          "0.824",
          "0.653",
          "0.824",
          "0.653",
          "0.824",
          "0.653",
          "0.824",
          "0.653",
          "0.824",
          "0.653",
          "0.824",
          "0.653",
          "0.824",
          "0.653",
          "0.824",
          "0.653",
          "0.824",
          "0.653",
          "0.824",
          "0.653",
          "0.824",
          "0.653",
          "0.824",
          "0.653",
          "0.824",
          "0.653",
          "0.824",
          "0.653",
          "0.824",
          "0.653",
          "0.824",
          "0.653",
          "0.824",
          "0.653",
          "0.824",
          "0.653",
          "0.824",
          "0.653",
          "0.824",
          "0.653",
          "0.824",
          "0.653",
          "0.824",
          "0.653",
          "0.824",
          "0.653",
          "0.824",
          "0.653",
          "0.824",
          "0.653",
          "0.824",
          "0.653",
          "0.824",
          "0.653",
          "0.824",
          "0.653",
          "0.824",
          "0.653",
          "0.824",
          "0.653",
          "0.824",
          "0.653",
          "0.824",
          "0.653",
          "0.824",
          "0.653",
          "0.824",
          "0.653",
          "0.824",
          "0.653",
          "0.824",
          "0.653",
          "0.824",
          "0.653",
          "0.824",
          "0.653",
          "0.824",
          "0.653",
          "0.824",
          "0.653",
          "0.824",
          "0.653",
          "0.824",
          "0.653",
          "0.824",
          "0.653",
          "0.824",
          "0.653",
          "0.824",
          "0.653",
          "0.824",
          "0.653",
          "0.824",
          "0.653",
          "0.824",
          "0.653",
          "0.824",
          "0.653",
          "0.824",
          "0.653",
          "0.824",
          "0.653",
          "0.824",
          "0.653",
          "0.824",
          "0.653",
          "0.824",
          "0.653",
          "0.824",
          "0.653",
          "0.824",
          "0.653",
          "0.824",
          "0.653",
          "0.824",
          "0.653",
          "0.824",
          "0.653",
          "0.824",
          "0.653",
          "0.824",
          "0.653",
          "0.824",
          "0.653",
          "0.824",
          "0.653",
          "0.824",
          "0.653",
          "0.824",
          "0.653",
          "0.824",
          "0.653",
          "0.824",
          "0.653",
          "0.824",
          "0.653",
          "0.824",
          "0.653",
          "0.824",
          "0.653",
          "0.824",
          "0.653",
          "0.824",
          "0.653",
          "0.824",
          "0.653",
          "0.824",
          "0.653",
          "0.824",
          "0.653",
          "0.824",
          "0.653",
          "0.824",
          "0.653",
          "0.824",
          "0.653",
          "0.824",
          "0.653",
          "0.824",
          "0.653",
          "0.824",
          "0.653",
          "0.824",
          "0.653",
          "0.824",
          "0.653",
          "0.824",
          "0.653",
          "0.824",
          "0.653",
          "0.824",
          "0.653",
          "0.824",
          "0.653",
          "0.824"
         ],
         "type": "bar",
         "x": [
          "DBSCAN",
          "Chinese Whispers"
         ],
         "y": [
          0.653,
          0.824
         ]
        }
       ],
       "layout": {
        "font": {
         "color": "white"
        },
        "paper_bgcolor": "#5e5e5e",
        "plot_bgcolor": "rgba(61, 61, 61, 0)",
        "template": {
         "data": {
          "bar": [
           {
            "error_x": {
             "color": "#2a3f5f"
            },
            "error_y": {
             "color": "#2a3f5f"
            },
            "marker": {
             "line": {
              "color": "#E5ECF6",
              "width": 0.5
             },
             "pattern": {
              "fillmode": "overlay",
              "size": 10,
              "solidity": 0.2
             }
            },
            "type": "bar"
           }
          ],
          "barpolar": [
           {
            "marker": {
             "line": {
              "color": "#E5ECF6",
              "width": 0.5
             },
             "pattern": {
              "fillmode": "overlay",
              "size": 10,
              "solidity": 0.2
             }
            },
            "type": "barpolar"
           }
          ],
          "carpet": [
           {
            "aaxis": {
             "endlinecolor": "#2a3f5f",
             "gridcolor": "white",
             "linecolor": "white",
             "minorgridcolor": "white",
             "startlinecolor": "#2a3f5f"
            },
            "baxis": {
             "endlinecolor": "#2a3f5f",
             "gridcolor": "white",
             "linecolor": "white",
             "minorgridcolor": "white",
             "startlinecolor": "#2a3f5f"
            },
            "type": "carpet"
           }
          ],
          "choropleth": [
           {
            "colorbar": {
             "outlinewidth": 0,
             "ticks": ""
            },
            "type": "choropleth"
           }
          ],
          "contour": [
           {
            "colorbar": {
             "outlinewidth": 0,
             "ticks": ""
            },
            "colorscale": [
             [
              0,
              "#0d0887"
             ],
             [
              0.1111111111111111,
              "#46039f"
             ],
             [
              0.2222222222222222,
              "#7201a8"
             ],
             [
              0.3333333333333333,
              "#9c179e"
             ],
             [
              0.4444444444444444,
              "#bd3786"
             ],
             [
              0.5555555555555556,
              "#d8576b"
             ],
             [
              0.6666666666666666,
              "#ed7953"
             ],
             [
              0.7777777777777778,
              "#fb9f3a"
             ],
             [
              0.8888888888888888,
              "#fdca26"
             ],
             [
              1,
              "#f0f921"
             ]
            ],
            "type": "contour"
           }
          ],
          "contourcarpet": [
           {
            "colorbar": {
             "outlinewidth": 0,
             "ticks": ""
            },
            "type": "contourcarpet"
           }
          ],
          "heatmap": [
           {
            "colorbar": {
             "outlinewidth": 0,
             "ticks": ""
            },
            "colorscale": [
             [
              0,
              "#0d0887"
             ],
             [
              0.1111111111111111,
              "#46039f"
             ],
             [
              0.2222222222222222,
              "#7201a8"
             ],
             [
              0.3333333333333333,
              "#9c179e"
             ],
             [
              0.4444444444444444,
              "#bd3786"
             ],
             [
              0.5555555555555556,
              "#d8576b"
             ],
             [
              0.6666666666666666,
              "#ed7953"
             ],
             [
              0.7777777777777778,
              "#fb9f3a"
             ],
             [
              0.8888888888888888,
              "#fdca26"
             ],
             [
              1,
              "#f0f921"
             ]
            ],
            "type": "heatmap"
           }
          ],
          "heatmapgl": [
           {
            "colorbar": {
             "outlinewidth": 0,
             "ticks": ""
            },
            "colorscale": [
             [
              0,
              "#0d0887"
             ],
             [
              0.1111111111111111,
              "#46039f"
             ],
             [
              0.2222222222222222,
              "#7201a8"
             ],
             [
              0.3333333333333333,
              "#9c179e"
             ],
             [
              0.4444444444444444,
              "#bd3786"
             ],
             [
              0.5555555555555556,
              "#d8576b"
             ],
             [
              0.6666666666666666,
              "#ed7953"
             ],
             [
              0.7777777777777778,
              "#fb9f3a"
             ],
             [
              0.8888888888888888,
              "#fdca26"
             ],
             [
              1,
              "#f0f921"
             ]
            ],
            "type": "heatmapgl"
           }
          ],
          "histogram": [
           {
            "marker": {
             "pattern": {
              "fillmode": "overlay",
              "size": 10,
              "solidity": 0.2
             }
            },
            "type": "histogram"
           }
          ],
          "histogram2d": [
           {
            "colorbar": {
             "outlinewidth": 0,
             "ticks": ""
            },
            "colorscale": [
             [
              0,
              "#0d0887"
             ],
             [
              0.1111111111111111,
              "#46039f"
             ],
             [
              0.2222222222222222,
              "#7201a8"
             ],
             [
              0.3333333333333333,
              "#9c179e"
             ],
             [
              0.4444444444444444,
              "#bd3786"
             ],
             [
              0.5555555555555556,
              "#d8576b"
             ],
             [
              0.6666666666666666,
              "#ed7953"
             ],
             [
              0.7777777777777778,
              "#fb9f3a"
             ],
             [
              0.8888888888888888,
              "#fdca26"
             ],
             [
              1,
              "#f0f921"
             ]
            ],
            "type": "histogram2d"
           }
          ],
          "histogram2dcontour": [
           {
            "colorbar": {
             "outlinewidth": 0,
             "ticks": ""
            },
            "colorscale": [
             [
              0,
              "#0d0887"
             ],
             [
              0.1111111111111111,
              "#46039f"
             ],
             [
              0.2222222222222222,
              "#7201a8"
             ],
             [
              0.3333333333333333,
              "#9c179e"
             ],
             [
              0.4444444444444444,
              "#bd3786"
             ],
             [
              0.5555555555555556,
              "#d8576b"
             ],
             [
              0.6666666666666666,
              "#ed7953"
             ],
             [
              0.7777777777777778,
              "#fb9f3a"
             ],
             [
              0.8888888888888888,
              "#fdca26"
             ],
             [
              1,
              "#f0f921"
             ]
            ],
            "type": "histogram2dcontour"
           }
          ],
          "mesh3d": [
           {
            "colorbar": {
             "outlinewidth": 0,
             "ticks": ""
            },
            "type": "mesh3d"
           }
          ],
          "parcoords": [
           {
            "line": {
             "colorbar": {
              "outlinewidth": 0,
              "ticks": ""
             }
            },
            "type": "parcoords"
           }
          ],
          "pie": [
           {
            "automargin": true,
            "type": "pie"
           }
          ],
          "scatter": [
           {
            "fillpattern": {
             "fillmode": "overlay",
             "size": 10,
             "solidity": 0.2
            },
            "type": "scatter"
           }
          ],
          "scatter3d": [
           {
            "line": {
             "colorbar": {
              "outlinewidth": 0,
              "ticks": ""
             }
            },
            "marker": {
             "colorbar": {
              "outlinewidth": 0,
              "ticks": ""
             }
            },
            "type": "scatter3d"
           }
          ],
          "scattercarpet": [
           {
            "marker": {
             "colorbar": {
              "outlinewidth": 0,
              "ticks": ""
             }
            },
            "type": "scattercarpet"
           }
          ],
          "scattergeo": [
           {
            "marker": {
             "colorbar": {
              "outlinewidth": 0,
              "ticks": ""
             }
            },
            "type": "scattergeo"
           }
          ],
          "scattergl": [
           {
            "marker": {
             "colorbar": {
              "outlinewidth": 0,
              "ticks": ""
             }
            },
            "type": "scattergl"
           }
          ],
          "scattermapbox": [
           {
            "marker": {
             "colorbar": {
              "outlinewidth": 0,
              "ticks": ""
             }
            },
            "type": "scattermapbox"
           }
          ],
          "scatterpolar": [
           {
            "marker": {
             "colorbar": {
              "outlinewidth": 0,
              "ticks": ""
             }
            },
            "type": "scatterpolar"
           }
          ],
          "scatterpolargl": [
           {
            "marker": {
             "colorbar": {
              "outlinewidth": 0,
              "ticks": ""
             }
            },
            "type": "scatterpolargl"
           }
          ],
          "scatterternary": [
           {
            "marker": {
             "colorbar": {
              "outlinewidth": 0,
              "ticks": ""
             }
            },
            "type": "scatterternary"
           }
          ],
          "surface": [
           {
            "colorbar": {
             "outlinewidth": 0,
             "ticks": ""
            },
            "colorscale": [
             [
              0,
              "#0d0887"
             ],
             [
              0.1111111111111111,
              "#46039f"
             ],
             [
              0.2222222222222222,
              "#7201a8"
             ],
             [
              0.3333333333333333,
              "#9c179e"
             ],
             [
              0.4444444444444444,
              "#bd3786"
             ],
             [
              0.5555555555555556,
              "#d8576b"
             ],
             [
              0.6666666666666666,
              "#ed7953"
             ],
             [
              0.7777777777777778,
              "#fb9f3a"
             ],
             [
              0.8888888888888888,
              "#fdca26"
             ],
             [
              1,
              "#f0f921"
             ]
            ],
            "type": "surface"
           }
          ],
          "table": [
           {
            "cells": {
             "fill": {
              "color": "#EBF0F8"
             },
             "line": {
              "color": "white"
             }
            },
            "header": {
             "fill": {
              "color": "#C8D4E3"
             },
             "line": {
              "color": "white"
             }
            },
            "type": "table"
           }
          ]
         },
         "layout": {
          "annotationdefaults": {
           "arrowcolor": "#2a3f5f",
           "arrowhead": 0,
           "arrowwidth": 1
          },
          "autotypenumbers": "strict",
          "coloraxis": {
           "colorbar": {
            "outlinewidth": 0,
            "ticks": ""
           }
          },
          "colorscale": {
           "diverging": [
            [
             0,
             "#8e0152"
            ],
            [
             0.1,
             "#c51b7d"
            ],
            [
             0.2,
             "#de77ae"
            ],
            [
             0.3,
             "#f1b6da"
            ],
            [
             0.4,
             "#fde0ef"
            ],
            [
             0.5,
             "#f7f7f7"
            ],
            [
             0.6,
             "#e6f5d0"
            ],
            [
             0.7,
             "#b8e186"
            ],
            [
             0.8,
             "#7fbc41"
            ],
            [
             0.9,
             "#4d9221"
            ],
            [
             1,
             "#276419"
            ]
           ],
           "sequential": [
            [
             0,
             "#0d0887"
            ],
            [
             0.1111111111111111,
             "#46039f"
            ],
            [
             0.2222222222222222,
             "#7201a8"
            ],
            [
             0.3333333333333333,
             "#9c179e"
            ],
            [
             0.4444444444444444,
             "#bd3786"
            ],
            [
             0.5555555555555556,
             "#d8576b"
            ],
            [
             0.6666666666666666,
             "#ed7953"
            ],
            [
             0.7777777777777778,
             "#fb9f3a"
            ],
            [
             0.8888888888888888,
             "#fdca26"
            ],
            [
             1,
             "#f0f921"
            ]
           ],
           "sequentialminus": [
            [
             0,
             "#0d0887"
            ],
            [
             0.1111111111111111,
             "#46039f"
            ],
            [
             0.2222222222222222,
             "#7201a8"
            ],
            [
             0.3333333333333333,
             "#9c179e"
            ],
            [
             0.4444444444444444,
             "#bd3786"
            ],
            [
             0.5555555555555556,
             "#d8576b"
            ],
            [
             0.6666666666666666,
             "#ed7953"
            ],
            [
             0.7777777777777778,
             "#fb9f3a"
            ],
            [
             0.8888888888888888,
             "#fdca26"
            ],
            [
             1,
             "#f0f921"
            ]
           ]
          },
          "colorway": [
           "#636efa",
           "#EF553B",
           "#00cc96",
           "#ab63fa",
           "#FFA15A",
           "#19d3f3",
           "#FF6692",
           "#B6E880",
           "#FF97FF",
           "#FECB52"
          ],
          "font": {
           "color": "#2a3f5f"
          },
          "geo": {
           "bgcolor": "white",
           "lakecolor": "white",
           "landcolor": "#E5ECF6",
           "showlakes": true,
           "showland": true,
           "subunitcolor": "white"
          },
          "hoverlabel": {
           "align": "left"
          },
          "hovermode": "closest",
          "mapbox": {
           "style": "light"
          },
          "paper_bgcolor": "white",
          "plot_bgcolor": "#E5ECF6",
          "polar": {
           "angularaxis": {
            "gridcolor": "white",
            "linecolor": "white",
            "ticks": ""
           },
           "bgcolor": "#E5ECF6",
           "radialaxis": {
            "gridcolor": "white",
            "linecolor": "white",
            "ticks": ""
           }
          },
          "scene": {
           "xaxis": {
            "backgroundcolor": "#E5ECF6",
            "gridcolor": "white",
            "gridwidth": 2,
            "linecolor": "white",
            "showbackground": true,
            "ticks": "",
            "zerolinecolor": "white"
           },
           "yaxis": {
            "backgroundcolor": "#E5ECF6",
            "gridcolor": "white",
            "gridwidth": 2,
            "linecolor": "white",
            "showbackground": true,
            "ticks": "",
            "zerolinecolor": "white"
           },
           "zaxis": {
            "backgroundcolor": "#E5ECF6",
            "gridcolor": "white",
            "gridwidth": 2,
            "linecolor": "white",
            "showbackground": true,
            "ticks": "",
            "zerolinecolor": "white"
           }
          },
          "shapedefaults": {
           "line": {
            "color": "#2a3f5f"
           }
          },
          "ternary": {
           "aaxis": {
            "gridcolor": "white",
            "linecolor": "white",
            "ticks": ""
           },
           "baxis": {
            "gridcolor": "white",
            "linecolor": "white",
            "ticks": ""
           },
           "bgcolor": "#E5ECF6",
           "caxis": {
            "gridcolor": "white",
            "linecolor": "white",
            "ticks": ""
           }
          },
          "title": {
           "x": 0.05
          },
          "xaxis": {
           "automargin": true,
           "gridcolor": "white",
           "linecolor": "white",
           "ticks": "",
           "title": {
            "standoff": 15
           },
           "zerolinecolor": "white",
           "zerolinewidth": 2
          },
          "yaxis": {
           "automargin": true,
           "gridcolor": "white",
           "linecolor": "white",
           "ticks": "",
           "title": {
            "standoff": 15
           },
           "zerolinecolor": "white",
           "zerolinewidth": 2
          }
         }
        },
        "title": {
         "font": {
          "color": "white",
          "family": "Raleway",
          "size": 22
         },
         "text": "",
         "x": 0.5,
         "xanchor": "center",
         "y": 0.9,
         "yanchor": "top"
        },
        "xaxis": {
         "tickfont": {
          "color": "white",
          "family": "Roboto",
          "size": 14
         },
         "title": {
          "font": {
           "color": "white",
           "family": "Raleway",
           "size": 18
          },
          "text": ""
         }
        },
        "yaxis": {
         "tickfont": {
          "color": "white",
          "family": "Roboto",
          "size": 14
         },
         "title": {
          "font": {
           "color": "white",
           "family": "Raleway",
           "size": 18
          },
          "text": ""
         }
        }
       }
      },
      "text/html": [
       "<div>                            <div id=\"b98a172b-e1e0-4aae-bf6f-c259b8d701bf\" class=\"plotly-graph-div\" style=\"height:525px; width:100%;\"></div>            <script type=\"text/javascript\">                require([\"plotly\"], function(Plotly) {                    window.PLOTLYENV=window.PLOTLYENV || {};                                    if (document.getElementById(\"b98a172b-e1e0-4aae-bf6f-c259b8d701bf\")) {                    Plotly.newPlot(                        \"b98a172b-e1e0-4aae-bf6f-c259b8d701bf\",                        [{\"text\":[\"0.653\",\"0.824\",\"0.653\",\"0.824\",\"0.653\",\"0.824\",\"0.653\",\"0.824\",\"0.653\",\"0.824\",\"0.653\",\"0.824\",\"0.653\",\"0.824\",\"0.653\",\"0.824\",\"0.653\",\"0.824\",\"0.653\",\"0.824\",\"0.653\",\"0.824\",\"0.653\",\"0.824\",\"0.653\",\"0.824\",\"0.653\",\"0.824\",\"0.653\",\"0.824\",\"0.653\",\"0.824\",\"0.653\",\"0.824\",\"0.653\",\"0.824\",\"0.653\",\"0.824\",\"0.653\",\"0.824\",\"0.653\",\"0.824\",\"0.653\",\"0.824\",\"0.653\",\"0.824\",\"0.653\",\"0.824\",\"0.653\",\"0.824\",\"0.653\",\"0.824\",\"0.653\",\"0.824\",\"0.653\",\"0.824\",\"0.653\",\"0.824\",\"0.653\",\"0.824\",\"0.653\",\"0.824\",\"0.653\",\"0.824\",\"0.653\",\"0.824\",\"0.653\",\"0.824\",\"0.653\",\"0.824\",\"0.653\",\"0.824\",\"0.653\",\"0.824\",\"0.653\",\"0.824\",\"0.653\",\"0.824\",\"0.653\",\"0.824\",\"0.653\",\"0.824\",\"0.653\",\"0.824\",\"0.653\",\"0.824\",\"0.653\",\"0.824\",\"0.653\",\"0.824\",\"0.653\",\"0.824\",\"0.653\",\"0.824\",\"0.653\",\"0.824\",\"0.653\",\"0.824\",\"0.653\",\"0.824\",\"0.653\",\"0.824\",\"0.653\",\"0.824\",\"0.653\",\"0.824\",\"0.653\",\"0.824\",\"0.653\",\"0.824\",\"0.653\",\"0.824\",\"0.653\",\"0.824\",\"0.653\",\"0.824\",\"0.653\",\"0.824\",\"0.653\",\"0.824\",\"0.653\",\"0.824\",\"0.653\",\"0.824\",\"0.653\",\"0.824\",\"0.653\",\"0.824\",\"0.653\",\"0.824\",\"0.653\",\"0.824\",\"0.653\",\"0.824\",\"0.653\",\"0.824\",\"0.653\",\"0.824\",\"0.653\",\"0.824\",\"0.653\",\"0.824\",\"0.653\",\"0.824\",\"0.653\",\"0.824\",\"0.653\",\"0.824\",\"0.653\",\"0.824\",\"0.653\",\"0.824\",\"0.653\",\"0.824\",\"0.653\",\"0.824\",\"0.653\",\"0.824\",\"0.653\",\"0.824\",\"0.653\",\"0.824\",\"0.653\",\"0.824\",\"0.653\",\"0.824\",\"0.653\",\"0.824\",\"0.653\",\"0.824\",\"0.653\",\"0.824\",\"0.653\",\"0.824\",\"0.653\",\"0.824\",\"0.653\",\"0.824\",\"0.653\",\"0.824\",\"0.653\",\"0.824\",\"0.653\",\"0.824\",\"0.653\",\"0.824\",\"0.653\",\"0.824\",\"0.653\",\"0.824\",\"0.653\",\"0.824\",\"0.653\",\"0.824\",\"0.653\",\"0.824\",\"0.653\",\"0.824\",\"0.653\",\"0.824\"],\"x\":[\"DBSCAN\",\"Chinese Whispers\"],\"y\":[0.653,0.824],\"type\":\"bar\"}],                        {\"font\":{\"color\":\"white\"},\"paper_bgcolor\":\"#5e5e5e\",\"plot_bgcolor\":\"rgba(61, 61, 61, 0)\",\"title\":{\"font\":{\"color\":\"white\",\"family\":\"Raleway\",\"size\":22},\"text\":\"\",\"x\":0.5,\"xanchor\":\"center\",\"y\":0.9,\"yanchor\":\"top\"},\"xaxis\":{\"tickfont\":{\"color\":\"white\",\"family\":\"Roboto\",\"size\":14},\"title\":{\"font\":{\"color\":\"white\",\"family\":\"Raleway\",\"size\":18},\"text\":\"\"}},\"yaxis\":{\"tickfont\":{\"color\":\"white\",\"family\":\"Roboto\",\"size\":14},\"title\":{\"font\":{\"color\":\"white\",\"family\":\"Raleway\",\"size\":18},\"text\":\"\"}},\"template\":{\"data\":{\"histogram2dcontour\":[{\"type\":\"histogram2dcontour\",\"colorbar\":{\"outlinewidth\":0,\"ticks\":\"\"},\"colorscale\":[[0.0,\"#0d0887\"],[0.1111111111111111,\"#46039f\"],[0.2222222222222222,\"#7201a8\"],[0.3333333333333333,\"#9c179e\"],[0.4444444444444444,\"#bd3786\"],[0.5555555555555556,\"#d8576b\"],[0.6666666666666666,\"#ed7953\"],[0.7777777777777778,\"#fb9f3a\"],[0.8888888888888888,\"#fdca26\"],[1.0,\"#f0f921\"]]}],\"choropleth\":[{\"type\":\"choropleth\",\"colorbar\":{\"outlinewidth\":0,\"ticks\":\"\"}}],\"histogram2d\":[{\"type\":\"histogram2d\",\"colorbar\":{\"outlinewidth\":0,\"ticks\":\"\"},\"colorscale\":[[0.0,\"#0d0887\"],[0.1111111111111111,\"#46039f\"],[0.2222222222222222,\"#7201a8\"],[0.3333333333333333,\"#9c179e\"],[0.4444444444444444,\"#bd3786\"],[0.5555555555555556,\"#d8576b\"],[0.6666666666666666,\"#ed7953\"],[0.7777777777777778,\"#fb9f3a\"],[0.8888888888888888,\"#fdca26\"],[1.0,\"#f0f921\"]]}],\"heatmap\":[{\"type\":\"heatmap\",\"colorbar\":{\"outlinewidth\":0,\"ticks\":\"\"},\"colorscale\":[[0.0,\"#0d0887\"],[0.1111111111111111,\"#46039f\"],[0.2222222222222222,\"#7201a8\"],[0.3333333333333333,\"#9c179e\"],[0.4444444444444444,\"#bd3786\"],[0.5555555555555556,\"#d8576b\"],[0.6666666666666666,\"#ed7953\"],[0.7777777777777778,\"#fb9f3a\"],[0.8888888888888888,\"#fdca26\"],[1.0,\"#f0f921\"]]}],\"heatmapgl\":[{\"type\":\"heatmapgl\",\"colorbar\":{\"outlinewidth\":0,\"ticks\":\"\"},\"colorscale\":[[0.0,\"#0d0887\"],[0.1111111111111111,\"#46039f\"],[0.2222222222222222,\"#7201a8\"],[0.3333333333333333,\"#9c179e\"],[0.4444444444444444,\"#bd3786\"],[0.5555555555555556,\"#d8576b\"],[0.6666666666666666,\"#ed7953\"],[0.7777777777777778,\"#fb9f3a\"],[0.8888888888888888,\"#fdca26\"],[1.0,\"#f0f921\"]]}],\"contourcarpet\":[{\"type\":\"contourcarpet\",\"colorbar\":{\"outlinewidth\":0,\"ticks\":\"\"}}],\"contour\":[{\"type\":\"contour\",\"colorbar\":{\"outlinewidth\":0,\"ticks\":\"\"},\"colorscale\":[[0.0,\"#0d0887\"],[0.1111111111111111,\"#46039f\"],[0.2222222222222222,\"#7201a8\"],[0.3333333333333333,\"#9c179e\"],[0.4444444444444444,\"#bd3786\"],[0.5555555555555556,\"#d8576b\"],[0.6666666666666666,\"#ed7953\"],[0.7777777777777778,\"#fb9f3a\"],[0.8888888888888888,\"#fdca26\"],[1.0,\"#f0f921\"]]}],\"surface\":[{\"type\":\"surface\",\"colorbar\":{\"outlinewidth\":0,\"ticks\":\"\"},\"colorscale\":[[0.0,\"#0d0887\"],[0.1111111111111111,\"#46039f\"],[0.2222222222222222,\"#7201a8\"],[0.3333333333333333,\"#9c179e\"],[0.4444444444444444,\"#bd3786\"],[0.5555555555555556,\"#d8576b\"],[0.6666666666666666,\"#ed7953\"],[0.7777777777777778,\"#fb9f3a\"],[0.8888888888888888,\"#fdca26\"],[1.0,\"#f0f921\"]]}],\"mesh3d\":[{\"type\":\"mesh3d\",\"colorbar\":{\"outlinewidth\":0,\"ticks\":\"\"}}],\"scatter\":[{\"fillpattern\":{\"fillmode\":\"overlay\",\"size\":10,\"solidity\":0.2},\"type\":\"scatter\"}],\"parcoords\":[{\"type\":\"parcoords\",\"line\":{\"colorbar\":{\"outlinewidth\":0,\"ticks\":\"\"}}}],\"scatterpolargl\":[{\"type\":\"scatterpolargl\",\"marker\":{\"colorbar\":{\"outlinewidth\":0,\"ticks\":\"\"}}}],\"bar\":[{\"error_x\":{\"color\":\"#2a3f5f\"},\"error_y\":{\"color\":\"#2a3f5f\"},\"marker\":{\"line\":{\"color\":\"#E5ECF6\",\"width\":0.5},\"pattern\":{\"fillmode\":\"overlay\",\"size\":10,\"solidity\":0.2}},\"type\":\"bar\"}],\"scattergeo\":[{\"type\":\"scattergeo\",\"marker\":{\"colorbar\":{\"outlinewidth\":0,\"ticks\":\"\"}}}],\"scatterpolar\":[{\"type\":\"scatterpolar\",\"marker\":{\"colorbar\":{\"outlinewidth\":0,\"ticks\":\"\"}}}],\"histogram\":[{\"marker\":{\"pattern\":{\"fillmode\":\"overlay\",\"size\":10,\"solidity\":0.2}},\"type\":\"histogram\"}],\"scattergl\":[{\"type\":\"scattergl\",\"marker\":{\"colorbar\":{\"outlinewidth\":0,\"ticks\":\"\"}}}],\"scatter3d\":[{\"type\":\"scatter3d\",\"line\":{\"colorbar\":{\"outlinewidth\":0,\"ticks\":\"\"}},\"marker\":{\"colorbar\":{\"outlinewidth\":0,\"ticks\":\"\"}}}],\"scattermapbox\":[{\"type\":\"scattermapbox\",\"marker\":{\"colorbar\":{\"outlinewidth\":0,\"ticks\":\"\"}}}],\"scatterternary\":[{\"type\":\"scatterternary\",\"marker\":{\"colorbar\":{\"outlinewidth\":0,\"ticks\":\"\"}}}],\"scattercarpet\":[{\"type\":\"scattercarpet\",\"marker\":{\"colorbar\":{\"outlinewidth\":0,\"ticks\":\"\"}}}],\"carpet\":[{\"aaxis\":{\"endlinecolor\":\"#2a3f5f\",\"gridcolor\":\"white\",\"linecolor\":\"white\",\"minorgridcolor\":\"white\",\"startlinecolor\":\"#2a3f5f\"},\"baxis\":{\"endlinecolor\":\"#2a3f5f\",\"gridcolor\":\"white\",\"linecolor\":\"white\",\"minorgridcolor\":\"white\",\"startlinecolor\":\"#2a3f5f\"},\"type\":\"carpet\"}],\"table\":[{\"cells\":{\"fill\":{\"color\":\"#EBF0F8\"},\"line\":{\"color\":\"white\"}},\"header\":{\"fill\":{\"color\":\"#C8D4E3\"},\"line\":{\"color\":\"white\"}},\"type\":\"table\"}],\"barpolar\":[{\"marker\":{\"line\":{\"color\":\"#E5ECF6\",\"width\":0.5},\"pattern\":{\"fillmode\":\"overlay\",\"size\":10,\"solidity\":0.2}},\"type\":\"barpolar\"}],\"pie\":[{\"automargin\":true,\"type\":\"pie\"}]},\"layout\":{\"autotypenumbers\":\"strict\",\"colorway\":[\"#636efa\",\"#EF553B\",\"#00cc96\",\"#ab63fa\",\"#FFA15A\",\"#19d3f3\",\"#FF6692\",\"#B6E880\",\"#FF97FF\",\"#FECB52\"],\"font\":{\"color\":\"#2a3f5f\"},\"hovermode\":\"closest\",\"hoverlabel\":{\"align\":\"left\"},\"paper_bgcolor\":\"white\",\"plot_bgcolor\":\"#E5ECF6\",\"polar\":{\"bgcolor\":\"#E5ECF6\",\"angularaxis\":{\"gridcolor\":\"white\",\"linecolor\":\"white\",\"ticks\":\"\"},\"radialaxis\":{\"gridcolor\":\"white\",\"linecolor\":\"white\",\"ticks\":\"\"}},\"ternary\":{\"bgcolor\":\"#E5ECF6\",\"aaxis\":{\"gridcolor\":\"white\",\"linecolor\":\"white\",\"ticks\":\"\"},\"baxis\":{\"gridcolor\":\"white\",\"linecolor\":\"white\",\"ticks\":\"\"},\"caxis\":{\"gridcolor\":\"white\",\"linecolor\":\"white\",\"ticks\":\"\"}},\"coloraxis\":{\"colorbar\":{\"outlinewidth\":0,\"ticks\":\"\"}},\"colorscale\":{\"sequential\":[[0.0,\"#0d0887\"],[0.1111111111111111,\"#46039f\"],[0.2222222222222222,\"#7201a8\"],[0.3333333333333333,\"#9c179e\"],[0.4444444444444444,\"#bd3786\"],[0.5555555555555556,\"#d8576b\"],[0.6666666666666666,\"#ed7953\"],[0.7777777777777778,\"#fb9f3a\"],[0.8888888888888888,\"#fdca26\"],[1.0,\"#f0f921\"]],\"sequentialminus\":[[0.0,\"#0d0887\"],[0.1111111111111111,\"#46039f\"],[0.2222222222222222,\"#7201a8\"],[0.3333333333333333,\"#9c179e\"],[0.4444444444444444,\"#bd3786\"],[0.5555555555555556,\"#d8576b\"],[0.6666666666666666,\"#ed7953\"],[0.7777777777777778,\"#fb9f3a\"],[0.8888888888888888,\"#fdca26\"],[1.0,\"#f0f921\"]],\"diverging\":[[0,\"#8e0152\"],[0.1,\"#c51b7d\"],[0.2,\"#de77ae\"],[0.3,\"#f1b6da\"],[0.4,\"#fde0ef\"],[0.5,\"#f7f7f7\"],[0.6,\"#e6f5d0\"],[0.7,\"#b8e186\"],[0.8,\"#7fbc41\"],[0.9,\"#4d9221\"],[1,\"#276419\"]]},\"xaxis\":{\"gridcolor\":\"white\",\"linecolor\":\"white\",\"ticks\":\"\",\"title\":{\"standoff\":15},\"zerolinecolor\":\"white\",\"automargin\":true,\"zerolinewidth\":2},\"yaxis\":{\"gridcolor\":\"white\",\"linecolor\":\"white\",\"ticks\":\"\",\"title\":{\"standoff\":15},\"zerolinecolor\":\"white\",\"automargin\":true,\"zerolinewidth\":2},\"scene\":{\"xaxis\":{\"backgroundcolor\":\"#E5ECF6\",\"gridcolor\":\"white\",\"linecolor\":\"white\",\"showbackground\":true,\"ticks\":\"\",\"zerolinecolor\":\"white\",\"gridwidth\":2},\"yaxis\":{\"backgroundcolor\":\"#E5ECF6\",\"gridcolor\":\"white\",\"linecolor\":\"white\",\"showbackground\":true,\"ticks\":\"\",\"zerolinecolor\":\"white\",\"gridwidth\":2},\"zaxis\":{\"backgroundcolor\":\"#E5ECF6\",\"gridcolor\":\"white\",\"linecolor\":\"white\",\"showbackground\":true,\"ticks\":\"\",\"zerolinecolor\":\"white\",\"gridwidth\":2}},\"shapedefaults\":{\"line\":{\"color\":\"#2a3f5f\"}},\"annotationdefaults\":{\"arrowcolor\":\"#2a3f5f\",\"arrowhead\":0,\"arrowwidth\":1},\"geo\":{\"bgcolor\":\"white\",\"landcolor\":\"#E5ECF6\",\"subunitcolor\":\"white\",\"showland\":true,\"showlakes\":true,\"lakecolor\":\"white\"},\"title\":{\"x\":0.05},\"mapbox\":{\"style\":\"light\"}}}},                        {\"responsive\": true}                    ).then(function(){\n",
       "                            \n",
       "var gd = document.getElementById('b98a172b-e1e0-4aae-bf6f-c259b8d701bf');\n",
       "var x = new MutationObserver(function (mutations, observer) {{\n",
       "        var display = window.getComputedStyle(gd).display;\n",
       "        if (!display || display === 'none') {{\n",
       "            console.log([gd, 'removed!']);\n",
       "            Plotly.purge(gd);\n",
       "            observer.disconnect();\n",
       "        }}\n",
       "}});\n",
       "\n",
       "// Listen for the removal of the full notebook cells\n",
       "var notebookContainer = gd.closest('#notebook-container');\n",
       "if (notebookContainer) {{\n",
       "    x.observe(notebookContainer, {childList: true});\n",
       "}}\n",
       "\n",
       "// Listen for the clearing of the current output cell\n",
       "var outputEl = gd.closest('.output');\n",
       "if (outputEl) {{\n",
       "    x.observe(outputEl, {childList: true});\n",
       "}}\n",
       "\n",
       "                        })                };                });            </script>        </div>"
      ]
     },
     "metadata": {},
     "output_type": "display_data"
    }
   ],
   "source": [
    "data = [go.Bar(x=['DBSCAN', 'Chinese Whispers'], \n",
    "                   y=[0.653, 0.824],\n",
    "                   text=[0.653, 0.824])]\n",
    "fig = go.Figure(data=data, layout=layout)\n",
    "fig.show()"
   ]
  },
  {
   "cell_type": "code",
   "execution_count": null,
   "metadata": {},
   "outputs": [],
   "source": []
  }
 ],
 "metadata": {
  "kernelspec": {
   "display_name": "face",
   "language": "python",
   "name": "python3"
  },
  "language_info": {
   "codemirror_mode": {
    "name": "ipython",
    "version": 3
   },
   "file_extension": ".py",
   "mimetype": "text/x-python",
   "name": "python",
   "nbconvert_exporter": "python",
   "pygments_lexer": "ipython3",
   "version": "3.11.9"
  }
 },
 "nbformat": 4,
 "nbformat_minor": 2
}
